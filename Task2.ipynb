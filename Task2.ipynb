{
 "cells": [
  {
   "cell_type": "markdown",
   "id": "75d2c102-1015-4abc-89b7-8333a67cca69",
   "metadata": {},
   "source": [
    "# MOVIE RATING PREDICTION"
   ]
  },
  {
   "cell_type": "code",
   "execution_count": 44,
   "id": "9428d3ea-50e0-40d1-9ff7-19b0f951e2c7",
   "metadata": {},
   "outputs": [],
   "source": [
    "import pandas as pd\n",
    "import numpy as np\n",
    "\n",
    "import matplotlib.pyplot as plt\n",
    "import plotly.express as px\n",
    "%matplotlib inline\n",
    "import seaborn as sns\n",
    "\n",
    "import plotly.express as px\n",
    "from plotly.offline import init_notebook_mode, iplot, plot\n",
    "\n",
    "from sklearn.model_selection import train_test_split\n",
    "from sklearn.linear_model import LinearRegression\n",
    "from sklearn.metrics import mean_absolute_error, mean_squared_error, r2_score\n",
    "import warnings\n",
    "warnings.filterwarnings('ignore')"
   ]
  },
  {
   "cell_type": "code",
   "execution_count": 46,
   "id": "57fda29f-6b8e-45a6-b18d-d54b59274978",
   "metadata": {},
   "outputs": [
    {
     "name": "stdout",
     "output_type": "stream",
     "text": [
      "Failed with encoding utf-8:'utf-8' codec can't decode byte 0xe9 in position 3: invalid continuation byte\n",
      "File uccessfully read with encoding: latin1\n"
     ]
    },
    {
     "data": {
      "text/html": [
       "<div>\n",
       "<style scoped>\n",
       "    .dataframe tbody tr th:only-of-type {\n",
       "        vertical-align: middle;\n",
       "    }\n",
       "\n",
       "    .dataframe tbody tr th {\n",
       "        vertical-align: top;\n",
       "    }\n",
       "\n",
       "    .dataframe thead th {\n",
       "        text-align: right;\n",
       "    }\n",
       "</style>\n",
       "<table border=\"1\" class=\"dataframe\">\n",
       "  <thead>\n",
       "    <tr style=\"text-align: right;\">\n",
       "      <th></th>\n",
       "      <th>Name</th>\n",
       "      <th>Year</th>\n",
       "      <th>Duration</th>\n",
       "      <th>Genre</th>\n",
       "      <th>Rating</th>\n",
       "      <th>Votes</th>\n",
       "      <th>Director</th>\n",
       "      <th>Actor 1</th>\n",
       "      <th>Actor 2</th>\n",
       "      <th>Actor 3</th>\n",
       "    </tr>\n",
       "  </thead>\n",
       "  <tbody>\n",
       "    <tr>\n",
       "      <th>0</th>\n",
       "      <td></td>\n",
       "      <td>NaN</td>\n",
       "      <td>NaN</td>\n",
       "      <td>Drama</td>\n",
       "      <td>NaN</td>\n",
       "      <td>NaN</td>\n",
       "      <td>J.S. Randhawa</td>\n",
       "      <td>Manmauji</td>\n",
       "      <td>Birbal</td>\n",
       "      <td>Rajendra Bhatia</td>\n",
       "    </tr>\n",
       "    <tr>\n",
       "      <th>1</th>\n",
       "      <td>#Gadhvi (He thought he was Gandhi)</td>\n",
       "      <td>(2019)</td>\n",
       "      <td>109 min</td>\n",
       "      <td>Drama</td>\n",
       "      <td>7.0</td>\n",
       "      <td>8</td>\n",
       "      <td>Gaurav Bakshi</td>\n",
       "      <td>Rasika Dugal</td>\n",
       "      <td>Vivek Ghamande</td>\n",
       "      <td>Arvind Jangid</td>\n",
       "    </tr>\n",
       "    <tr>\n",
       "      <th>2</th>\n",
       "      <td>#Homecoming</td>\n",
       "      <td>(2021)</td>\n",
       "      <td>90 min</td>\n",
       "      <td>Drama, Musical</td>\n",
       "      <td>NaN</td>\n",
       "      <td>NaN</td>\n",
       "      <td>Soumyajit Majumdar</td>\n",
       "      <td>Sayani Gupta</td>\n",
       "      <td>Plabita Borthakur</td>\n",
       "      <td>Roy Angana</td>\n",
       "    </tr>\n",
       "    <tr>\n",
       "      <th>3</th>\n",
       "      <td>#Yaaram</td>\n",
       "      <td>(2019)</td>\n",
       "      <td>110 min</td>\n",
       "      <td>Comedy, Romance</td>\n",
       "      <td>4.4</td>\n",
       "      <td>35</td>\n",
       "      <td>Ovais Khan</td>\n",
       "      <td>Prateik</td>\n",
       "      <td>Ishita Raj</td>\n",
       "      <td>Siddhant Kapoor</td>\n",
       "    </tr>\n",
       "    <tr>\n",
       "      <th>4</th>\n",
       "      <td>...And Once Again</td>\n",
       "      <td>(2010)</td>\n",
       "      <td>105 min</td>\n",
       "      <td>Drama</td>\n",
       "      <td>NaN</td>\n",
       "      <td>NaN</td>\n",
       "      <td>Amol Palekar</td>\n",
       "      <td>Rajat Kapoor</td>\n",
       "      <td>Rituparna Sengupta</td>\n",
       "      <td>Antara Mali</td>\n",
       "    </tr>\n",
       "  </tbody>\n",
       "</table>\n",
       "</div>"
      ],
      "text/plain": [
       "                                 Name    Year Duration            Genre  \\\n",
       "0                                         NaN      NaN            Drama   \n",
       "1  #Gadhvi (He thought he was Gandhi)  (2019)  109 min            Drama   \n",
       "2                         #Homecoming  (2021)   90 min   Drama, Musical   \n",
       "3                             #Yaaram  (2019)  110 min  Comedy, Romance   \n",
       "4                   ...And Once Again  (2010)  105 min            Drama   \n",
       "\n",
       "   Rating Votes            Director       Actor 1             Actor 2  \\\n",
       "0     NaN   NaN       J.S. Randhawa      Manmauji              Birbal   \n",
       "1     7.0     8       Gaurav Bakshi  Rasika Dugal      Vivek Ghamande   \n",
       "2     NaN   NaN  Soumyajit Majumdar  Sayani Gupta   Plabita Borthakur   \n",
       "3     4.4    35          Ovais Khan       Prateik          Ishita Raj   \n",
       "4     NaN   NaN        Amol Palekar  Rajat Kapoor  Rituparna Sengupta   \n",
       "\n",
       "           Actor 3  \n",
       "0  Rajendra Bhatia  \n",
       "1    Arvind Jangid  \n",
       "2       Roy Angana  \n",
       "3  Siddhant Kapoor  \n",
       "4      Antara Mali  "
      ]
     },
     "execution_count": 46,
     "metadata": {},
     "output_type": "execute_result"
    }
   ],
   "source": [
    "file_path = \"C:/Users/PK/Desktop/datasets/IMDb Movies India.csv\"\n",
    "encodings = ['utf-8','latin1','iso-8859-1','cp1252']\n",
    "for encoding in encodings:\n",
    "    try:\n",
    "        df = pd.read_csv(file_path,encoding = encoding)\n",
    "        print(f\"File uccessfully read with encoding: {encoding}\")\n",
    "        break\n",
    "    except Exception as e:\n",
    "        print(f\"Failed with encoding {encoding}:{e}\")\n",
    "df.head()"
   ]
  },
  {
   "cell_type": "code",
   "execution_count": 48,
   "id": "66d7e9f9-97c1-4636-bbc8-224c1f400cc6",
   "metadata": {},
   "outputs": [
    {
     "data": {
      "text/plain": [
       "(15509, 10)"
      ]
     },
     "execution_count": 48,
     "metadata": {},
     "output_type": "execute_result"
    }
   ],
   "source": [
    "df.shape"
   ]
  },
  {
   "cell_type": "code",
   "execution_count": 50,
   "id": "066692d8-2b47-44a0-abc6-27c6d780e96c",
   "metadata": {},
   "outputs": [
    {
     "data": {
      "text/plain": [
       "Index(['Name', 'Year', 'Duration', 'Genre', 'Rating', 'Votes', 'Director',\n",
       "       'Actor 1', 'Actor 2', 'Actor 3'],\n",
       "      dtype='object')"
      ]
     },
     "execution_count": 50,
     "metadata": {},
     "output_type": "execute_result"
    }
   ],
   "source": [
    "df.columns"
   ]
  },
  {
   "cell_type": "code",
   "execution_count": 52,
   "id": "cf37f415-439e-497d-ba52-51908e8a08fe",
   "metadata": {},
   "outputs": [
    {
     "name": "stdout",
     "output_type": "stream",
     "text": [
      "<class 'pandas.core.frame.DataFrame'>\n",
      "RangeIndex: 15509 entries, 0 to 15508\n",
      "Data columns (total 10 columns):\n",
      " #   Column    Non-Null Count  Dtype  \n",
      "---  ------    --------------  -----  \n",
      " 0   Name      15509 non-null  object \n",
      " 1   Year      14981 non-null  object \n",
      " 2   Duration  7240 non-null   object \n",
      " 3   Genre     13632 non-null  object \n",
      " 4   Rating    7919 non-null   float64\n",
      " 5   Votes     7920 non-null   object \n",
      " 6   Director  14984 non-null  object \n",
      " 7   Actor 1   13892 non-null  object \n",
      " 8   Actor 2   13125 non-null  object \n",
      " 9   Actor 3   12365 non-null  object \n",
      "dtypes: float64(1), object(9)\n",
      "memory usage: 1.2+ MB\n"
     ]
    }
   ],
   "source": [
    "df.info()"
   ]
  },
  {
   "cell_type": "code",
   "execution_count": 54,
   "id": "ba656ce3-a2e2-416d-b9c2-2a14e5907b8b",
   "metadata": {},
   "outputs": [
    {
     "name": "stdout",
     "output_type": "stream",
     "text": [
      "Name         0.000000\n",
      "Year         3.404475\n",
      "Duration    53.317429\n",
      "Genre       12.102650\n",
      "Rating      48.939326\n",
      "Votes       48.932878\n",
      "Director     3.385131\n",
      "Actor 1     10.426204\n",
      "Actor 2     15.371720\n",
      "Actor 3     20.272100\n",
      "dtype: float64\n"
     ]
    }
   ],
   "source": [
    "print(df.isnull().sum()/len(df)*100)"
   ]
  },
  {
   "cell_type": "code",
   "execution_count": 56,
   "id": "9b7267bf-1d1e-49e2-b04b-e71225a8a134",
   "metadata": {},
   "outputs": [],
   "source": [
    "df.dropna(subset=['Duration'], inplace = True)\n",
    "df = df[df.isnull().sum(axis=1).sort_values(ascending=False) <=5]"
   ]
  },
  {
   "cell_type": "code",
   "execution_count": 58,
   "id": "2d7bdbae-d05b-4440-98dc-fa255df7ee77",
   "metadata": {},
   "outputs": [],
   "source": [
    "df.dropna(subset=['Rating', 'Votes'], inplace=True)\n",
    "\n",
    "df['Director'].fillna('Unknown Director', inplace=True)\n",
    "\n",
    "df['Genre'].fillna('Unknown Genre', inplace=True)\n",
    "\n",
    "df['Actor 1'].fillna('Unknown Actor', inplace=True)\n",
    "df['Actor 2'].fillna('Unknown Actor', inplace=True)\n",
    "df['Actor 3'].fillna('Unknown Actor', inplace=True)\n"
   ]
  },
  {
   "cell_type": "code",
   "execution_count": 60,
   "id": "69819337-eca3-481c-9824-52a8e4cd2f9a",
   "metadata": {},
   "outputs": [],
   "source": [
    "df['Year'] = df['Year'].str.replace(r'[()]', '', regex=True)\n",
    "df['Duration'] = df['Duration'].str.replace(r' min', '', regex=True)"
   ]
  },
  {
   "cell_type": "code",
   "execution_count": 62,
   "id": "3549d107-efd8-465d-a5bd-2371ddb06c53",
   "metadata": {},
   "outputs": [
    {
     "name": "stdout",
     "output_type": "stream",
     "text": [
      "<class 'pandas.core.frame.DataFrame'>\n",
      "Index: 5851 entries, 1 to 15508\n",
      "Data columns (total 10 columns):\n",
      " #   Column    Non-Null Count  Dtype  \n",
      "---  ------    --------------  -----  \n",
      " 0   Name      5851 non-null   object \n",
      " 1   Year      5851 non-null   object \n",
      " 2   Duration  5851 non-null   object \n",
      " 3   Genre     5851 non-null   object \n",
      " 4   Rating    5851 non-null   float64\n",
      " 5   Votes     5851 non-null   object \n",
      " 6   Director  5851 non-null   object \n",
      " 7   Actor 1   5851 non-null   object \n",
      " 8   Actor 2   5851 non-null   object \n",
      " 9   Actor 3   5851 non-null   object \n",
      "dtypes: float64(1), object(9)\n",
      "memory usage: 502.8+ KB\n"
     ]
    }
   ],
   "source": [
    "df.info()"
   ]
  },
  {
   "cell_type": "code",
   "execution_count": 64,
   "id": "f25bdcb9-2b74-45da-a5c9-15677e47e219",
   "metadata": {},
   "outputs": [],
   "source": [
    "int_columns = ['Year', 'Duration']\n",
    "df[int_columns] = df[int_columns].astype(int)\n",
    "df['Votes'] = df['Votes'].str.replace(',', '').astype(int)"
   ]
  },
  {
   "cell_type": "code",
   "execution_count": 66,
   "id": "116e1db2-4d8a-41d7-a350-dfe611503844",
   "metadata": {},
   "outputs": [
    {
     "data": {
      "image/png": "[encoded data removed]",
      "text/plain": [
       "<Figure size 2000x1000 with 1 Axes>"
      ]
     },
     "metadata": {},
     "output_type": "display_data"
    }
   ],
   "source": [
    "plt.figure(figsize=(20, 10))\n",
    "\n",
    "year_counts = df['Year'].value_counts().sort_index()\n",
    "years = year_counts.index\n",
    "\n",
    "plt.plot(years, year_counts, marker='o' )\n",
    "\n",
    "plt.title('Number of Movies Per Year')\n",
    "plt.xlabel('Year')\n",
    "plt.ylabel('Number of Movies')\n",
    "\n",
    "\n",
    "plt.show()"
   ]
  },
  {
   "cell_type": "code",
   "execution_count": 68,
   "id": "fb91caae-179a-467e-9b35-d1196cdd91bc",
   "metadata": {},
   "outputs": [],
   "source": [
    "genre_mean_rating = df.groupby('Genre')['Rating'].transform('mean')\n",
    "df['Genre_mean_rating'] = genre_mean_rating"
   ]
  },
  {
   "cell_type": "code",
   "execution_count": 70,
   "id": "d0b37bcb-662d-4c50-8663-f15b8d05925e",
   "metadata": {},
   "outputs": [],
   "source": [
    "df['Director_encoded'] = df.groupby('Director')['Rating'].transform('mean')\n",
    "df['Actor_encoded'] = df.groupby('Actor 1')['Rating'].transform('mean')\n",
    "\n",
    "features = ['Year', 'Votes', 'Duration', 'Genre_mean_rating', 'Director_encoded', 'Actor_encoded']\n",
    "X = df[features]\n",
    "y = df['Rating']"
   ]
  },
  {
   "cell_type": "code",
   "execution_count": 72,
   "id": "1421d720-34a2-4b30-aa6a-7e7ac7023abf",
   "metadata": {},
   "outputs": [
    {
     "name": "stdout",
     "output_type": "stream",
     "text": [
      "Mean Squared Error: 0.5140\n",
      "Mean Absolute Error: 0.5128\n",
      "R2 Score: 0.7237\n"
     ]
    }
   ],
   "source": [
    "X_train, X_test, y_train, y_test = train_test_split(X, y, test_size=0.2, random_state=42)\n",
    "\n",
    "lr = LinearRegression()\n",
    "lr.fit(X_train, y_train)\n",
    "\n",
    "# Make predictions on the test set\n",
    "y_pred = lr.predict(X_test)\n",
    "\n",
    "# Evaluate the model\n",
    "mse = mean_squared_error(y_test, y_pred)\n",
    "mae = mean_absolute_error(y_test, y_pred)\n",
    "r2 = r2_score(y_test, y_pred)\n",
    "\n",
    "# Print the evaluation metrics\n",
    "print(f\"Mean Squared Error: {mse:.4f}\")\n",
    "print(f\"Mean Absolute Error: {mae:.4f}\")\n",
    "print(f\"R2 Score: {r2:.4f}\")"
   ]
  },
  {
   "cell_type": "code",
   "execution_count": 78,
   "id": "121f4d50-c9e9-4ac5-a1e2-9b149d7eb2b5",
   "metadata": {},
   "outputs": [
    {
     "name": "stdout",
     "output_type": "stream",
     "text": [
      "\n",
      "--- Enter Movie Details for Rating Prediction ---\n"
     ]
    },
    {
     "name": "stdin",
     "output_type": "stream",
     "text": [
      "Which year was the movie released?:  2019\n",
      "Number of votes the movie received:  35\n",
      "Duration of the movie (in minutes):  110\n",
      "What is the genre of the movie?:  Comedy, Romance\n",
      "Who is the director?:  Ovais khan\n",
      "Enter the name of Actor 1 (or press Enter to skip):  \n",
      "Enter the name of Actor 2 (or press Enter to skip):  ishita raj\n",
      "Enter the name of Actor 3 (or press Enter to skip):  Siddhant kapoor\n"
     ]
    },
    {
     "name": "stdout",
     "output_type": "stream",
     "text": [
      "Predicted Rating for the movie: 6.02\n"
     ]
    }
   ],
   "source": [
    "def predict_movie_rating():\n",
    "    print(\"\\n--- Enter Movie Details for Rating Prediction ---\")\n",
    "\n",
    "    year = int(input(\"Which year was the movie released?: \"))\n",
    "    votes = int(input(\"Number of votes the movie received: \"))\n",
    "    duration = int(input(\"Duration of the movie (in minutes): \"))\n",
    "    genre = input(\"What is the genre of the movie?: \")\n",
    "\n",
    "    if not genre:\n",
    "        genre = \"Unknown Genre\"\n",
    "\n",
    "    director = input(\"Who is the director?: \")\n",
    "\n",
    "    if not director:\n",
    "        director = \"Unknown Director\"\n",
    "\n",
    "    actor1 = input(\"Enter the name of Actor 1 (or press Enter to skip): \")\n",
    "    actor2 = input(\"Enter the name of Actor 2 (or press Enter to skip): \")\n",
    "    actor3 = input(\"Enter the name of Actor 3 (or press Enter to skip): \")\n",
    "\n",
    "    if not actor1:\n",
    "        actor1 = \"Unknown Actor\"\n",
    "    if not actor2:\n",
    "        actor2 = \"Unknown Actor\"\n",
    "    if not actor3:\n",
    "        actor3 = \"Unknown Actor\"\n",
    "\n",
    "    actor1_rating = df.groupby('Actor 1')['Rating'].mean().get(actor1, df['Rating'].mean())\n",
    "    actor2_rating = df.groupby('Actor 2')['Rating'].mean().get(actor2, df['Rating'].mean())\n",
    "    actor3_rating = df.groupby('Actor 3')['Rating'].mean().get(actor3, df['Rating'].mean())\n",
    "    actor_encoded = (actor1_rating + actor2_rating + actor3_rating) / 3\n",
    "\n",
    "    new_data = pd.DataFrame({\n",
    "        'Year': [year],\n",
    "        'Votes': [votes],\n",
    "        'Duration': [duration],\n",
    "        'Genre_mean_rating': [df.groupby('Genre')['Rating'].mean().get(genre, df['Rating'].mean())],\n",
    "        'Director_encoded': [df.groupby('Director')['Rating'].mean().get(director, df['Rating'].mean())],\n",
    "        'Actor_encoded': [actor_encoded]\n",
    "    })\n",
    "\n",
    "    predicted_rating = lr.predict(new_data)\n",
    "    return predicted_rating[0]\n",
    "\n",
    "print(f\"Predicted Rating for the movie: {predict_movie_rating():.2f}\")\n"
   ]
  }
 ],
 "metadata": {
  "kernelspec": {
   "display_name": "Python [conda env:base] *",
   "language": "python",
   "name": "conda-base-py"
  },
  "language_info": {
   "codemirror_mode": {
    "name": "ipython",
    "version": 3
   },
   "file_extension": ".py",
   "mimetype": "text/x-python",
   "name": "python",
   "nbconvert_exporter": "python",
   "pygments_lexer": "ipython3",
   "version": "3.12.4"
  }
 },
 "nbformat": 4,
 "nbformat_minor": 5
}
